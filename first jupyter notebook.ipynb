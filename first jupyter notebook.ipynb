{
 "cells": [
  {
   "cell_type": "code",
   "execution_count": 1,
   "id": "c7278c1a",
   "metadata": {},
   "outputs": [],
   "source": [
    "import pandas as pd\n",
    "import matplotlib as plt"
   ]
  },
  {
   "cell_type": "markdown",
   "id": "5035c8c5",
   "metadata": {},
   "source": [
    "#learning to use pandas"
   ]
  },
  {
   "cell_type": "code",
   "execution_count": 2,
   "id": "19068116",
   "metadata": {},
   "outputs": [
    {
     "name": "stderr",
     "output_type": "stream",
     "text": [
      "/usr/local/lib/python3.9/site-packages/IPython/core/interactiveshell.py:3169: DtypeWarning: Columns (9,14,21) have mixed types.Specify dtype option on import or set low_memory=False.\n",
      "  has_raised = await self.run_ast_nodes(code_ast.body, cell_name,\n"
     ]
    }
   ],
   "source": [
    "df = pd.read_csv('museums.csv')"
   ]
  },
  {
   "cell_type": "code",
   "execution_count": 10,
   "id": "70f500d1",
   "metadata": {},
   "outputs": [
    {
     "data": {
      "text/plain": [
       "Index(['Museum ID', 'Museum Name', 'Legal Name', 'Alternate Name',\n",
       "       'Museum Type', 'Institution Name',\n",
       "       'Street Address (Administrative Location)',\n",
       "       'City (Administrative Location)', 'State (Administrative Location)',\n",
       "       'Zip Code (Administrative Location)',\n",
       "       'Street Address (Physical Location)', 'City (Physical Location)',\n",
       "       'State (Physical Location)', 'Zip Code (Physical Location)',\n",
       "       'Phone Number', 'Latitude', 'Longitude', 'Locale Code (NCES)',\n",
       "       'County Code (FIPS)', 'State Code (FIPS)', 'Region Code (AAM)',\n",
       "       'Employer ID Number', 'Tax Period', 'Income', 'Revenue'],\n",
       "      dtype='object')"
      ]
     },
     "execution_count": 10,
     "metadata": {},
     "output_type": "execute_result"
    }
   ],
   "source": [
    "df.columns"
   ]
  },
  {
   "cell_type": "markdown",
   "id": "6dae680a",
   "metadata": {},
   "source": [
    "# - Which city or state has the most museums per capita? \n"
   ]
  },
  {
   "cell_type": "code",
   "execution_count": 11,
   "id": "797936b3",
   "metadata": {},
   "outputs": [],
   "source": [
    "#??? Dont have population size data"
   ]
  },
  {
   "cell_type": "markdown",
   "id": "fccc95a9",
   "metadata": {},
   "source": [
    "# - Which city or state has the least museums per capita? \n"
   ]
  },
  {
   "cell_type": "code",
   "execution_count": 12,
   "id": "90cf3f31",
   "metadata": {},
   "outputs": [],
   "source": [
    "#??? Dont have population size data"
   ]
  },
  {
   "cell_type": "markdown",
   "id": "66858af3",
   "metadata": {},
   "source": [
    "# - How many zoos or aquariums exist in the United States?\n"
   ]
  },
  {
   "cell_type": "code",
   "execution_count": 19,
   "id": "d9f3b338",
   "metadata": {},
   "outputs": [
    {
     "data": {
      "text/plain": [
       "33072"
      ]
     },
     "execution_count": 19,
     "metadata": {},
     "output_type": "execute_result"
    }
   ],
   "source": [
    "len(df['Museum Name'].str.contains((\"AQUARIUM\")))"
   ]
  },
  {
   "cell_type": "markdown",
   "id": "c03f63bf",
   "metadata": {},
   "source": [
    "# - How many zoos?\n"
   ]
  },
  {
   "cell_type": "code",
   "execution_count": 17,
   "id": "07577f44",
   "metadata": {},
   "outputs": [
    {
     "data": {
      "text/plain": [
       "564"
      ]
     },
     "execution_count": 17,
     "metadata": {},
     "output_type": "execute_result"
    }
   ],
   "source": [
    "len(df[df['Museum Type'].str.contains('ZOO')])"
   ]
  },
  {
   "cell_type": "markdown",
   "id": "5cebff6f",
   "metadata": {},
   "source": [
    "# - How many aquariums?\n"
   ]
  },
  {
   "cell_type": "code",
   "execution_count": 18,
   "id": "4433174c",
   "metadata": {},
   "outputs": [
    {
     "data": {
      "text/plain": [
       "564"
      ]
     },
     "execution_count": 18,
     "metadata": {},
     "output_type": "execute_result"
    }
   ],
   "source": [
    "len(df[df['Museum Type'].str.contains('AQUARIUM')])"
   ]
  },
  {
   "cell_type": "markdown",
   "id": "3a4ab4c2",
   "metadata": {},
   "source": [
    "# - What museum or related organization had the highest revenue last year? \n"
   ]
  },
  {
   "cell_type": "code",
   "execution_count": 33,
   "id": "0387426f",
   "metadata": {},
   "outputs": [
    {
     "data": {
      "text/plain": [
       "61097426.0"
      ]
     },
     "execution_count": 33,
     "metadata": {},
     "output_type": "execute_result"
    }
   ],
   "source": [
    "rev = sorted(df['Revenue'])\n",
    "rev[-1]"
   ]
  },
  {
   "cell_type": "markdown",
   "id": "14768f94",
   "metadata": {},
   "source": [
    "# - How does the composition of museum types differ across the country?\n"
   ]
  },
  {
   "cell_type": "code",
   "execution_count": null,
   "id": "bba6d14f",
   "metadata": {},
   "outputs": [],
   "source": []
  },
  {
   "cell_type": "markdown",
   "id": "3159ab9a",
   "metadata": {},
   "source": [
    "# - For each type of museum, statistical measure on revenue and income?\n"
   ]
  },
  {
   "cell_type": "code",
   "execution_count": null,
   "id": "eade210c",
   "metadata": {},
   "outputs": [],
   "source": [
    "df.boxplot(cloumn='Income',by=)"
   ]
  },
  {
   "cell_type": "code",
   "execution_count": null,
   "id": "b0ad6399",
   "metadata": {},
   "outputs": [],
   "source": []
  }
 ],
 "metadata": {
  "kernelspec": {
   "display_name": "Python 3 (ipykernel)",
   "language": "python",
   "name": "python3"
  },
  "language_info": {
   "codemirror_mode": {
    "name": "ipython",
    "version": 3
   },
   "file_extension": ".py",
   "mimetype": "text/x-python",
   "name": "python",
   "nbconvert_exporter": "python",
   "pygments_lexer": "ipython3",
   "version": "3.9.5"
  }
 },
 "nbformat": 4,
 "nbformat_minor": 5
}
